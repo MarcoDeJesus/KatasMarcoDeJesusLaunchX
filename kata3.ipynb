{
 "cells": [
  {
   "cell_type": "code",
   "execution_count": 5,
   "metadata": {},
   "outputs": [
    {
     "name": "stdout",
     "output_type": "stream",
     "text": [
      "Hakuna matata\n"
     ]
    }
   ],
   "source": [
    "# Añadir el código necesario para crear una variable que guarde la velocidad del asteroide.\n",
    "# Escribe una expresión de prueba para calcular si necesita una advertencia.\n",
    "# Agregue las instrucciones que se ejecutarán si la expresión de prueba es true o false.\n",
    "\n",
    "asteroide = 5\n",
    "tamañoParaPreocuparse = 25\n",
    "\n",
    "if asteroide > tamañoParaPreocuparse:\n",
    "    print(\"I don't wanna miss a thing\")\n",
    "else:\n",
    "    print(\"Hakuna matata\")"
   ]
  },
  {
   "cell_type": "code",
   "execution_count": 6,
   "metadata": {},
   "outputs": [
    {
     "name": "stdout",
     "output_type": "stream",
     "text": [
      "Seguramente estas viendo Nextlix\n"
     ]
    }
   ],
   "source": [
    "# Agrega el código para crear una variable para un asteroide que viaja a 19 km/s\n",
    "# Escribe varias expresiones de prueba para determinar si puedes ver el rayo de luz desde la tierra\n",
    "# Agrega las instrucciones que se ejecutarán si las expresiones de prueba son True o False\n",
    "\n",
    "velocidadAsteroide = 19\n",
    "velocidadVisible = 20\n",
    "\n",
    "if velocidadAsteroide >= velocidadVisible:\n",
    "    print(\"Mayday\")\n",
    "elif velocidadAsteroide < velocidadVisible:\n",
    "    print(\"Seguramente estas viendo Nextlix\")\n",
    "\n"
   ]
  },
  {
   "cell_type": "code",
   "execution_count": 10,
   "metadata": {},
   "outputs": [
    {
     "name": "stdout",
     "output_type": "stream",
     "text": [
      "En momento asi quisiera ser un hombre religioso....\n",
      "Todo terminó señores no tenemos escapatoria....\n",
      "https://www.youtube.com/watch?v=XZhIQCg3Xtk\n",
      "I don't wanna miss a thing\n",
      "Mayday\n"
     ]
    }
   ],
   "source": [
    "# Agrega el código para crear nuevas variables para la velocidad y el tamaño del asteroide\n",
    "# Para probar el código, prueba con varias velocidades y tamaños\n",
    "# Escribe varias expresiones de prueba o combinaciones de expresiones de prueba para determinar qué mensaje se debe enviar a Tierra.\n",
    "\n",
    "asteroide = 5568\n",
    "tamañoParaPreocuparse = 500\n",
    "    \n",
    "velocidadAsteroide = 55\n",
    "velocidadVisible = 20\n",
    "\n",
    "if asteroide > tamañoParaPreocuparse and velocidadAsteroide >= velocidadVisible:\n",
    "    print(\"En momento asi quisiera ser un hombre religioso....\")\n",
    "    print(\"Todo terminó señores no tenemos escapatoria....\")\n",
    "    print(\"https://www.youtube.com/watch?v=XZhIQCg3Xtk\")\n",
    "\n",
    "if asteroide > tamañoParaPreocuparse:\n",
    "    print(\"I don't wanna miss a thing\")\n",
    "else:\n",
    "    print(\"Hakuna matata\")\n",
    "\n",
    "if velocidadAsteroide >= velocidadVisible:\n",
    "    print(\"Mayday\")\n",
    "elif velocidadAsteroide < velocidadVisible:\n",
    "    print(\"Seguramente estas viendo Nextlix\")"
   ]
  }
 ],
 "metadata": {
  "interpreter": {
   "hash": "e7370f93d1d0cde622a1f8e1c04877d8463912d04d973331ad4851f04de6915a"
  },
  "kernelspec": {
   "display_name": "Python 3.10.1 64-bit",
   "language": "python",
   "name": "python3"
  },
  "language_info": {
   "codemirror_mode": {
    "name": "ipython",
    "version": 3
   },
   "file_extension": ".py",
   "mimetype": "text/x-python",
   "name": "python",
   "nbconvert_exporter": "python",
   "pygments_lexer": "ipython3",
   "version": "3.10.1"
  },
  "orig_nbformat": 4
 },
 "nbformat": 4,
 "nbformat_minor": 2
}
